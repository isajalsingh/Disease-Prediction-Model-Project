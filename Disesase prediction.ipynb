{
 "cells": [
  {
   "cell_type": "markdown",
   "metadata": {},
   "source": [
    "<a id = \"1\"></a>\n",
    "### Data Preprocessing\n",
    "<a id = \"2\"></a>\n",
    "#### Import Libraries"
   ]
  },
  {
   "cell_type": "code",
   "execution_count": 1,
   "metadata": {
    "execution": {
     "iopub.execute_input": "2021-09-20T12:47:34.423007Z",
     "iopub.status.busy": "2021-09-20T12:47:34.422162Z",
     "iopub.status.idle": "2021-09-20T12:47:34.426135Z",
     "shell.execute_reply": "2021-09-20T12:47:34.425427Z",
     "shell.execute_reply.started": "2021-09-20T12:47:34.422968Z"
    }
   },
   "outputs": [],
   "source": [
    "import numpy as np\n",
    "import pandas as pd\n",
    "import matplotlib.pyplot as plt"
   ]
  },
  {
   "cell_type": "markdown",
   "metadata": {},
   "source": [
    "<a id = \"3\"></a>\n",
    "#### Import Dataset"
   ]
  },
  {
   "cell_type": "code",
   "execution_count": 2,
   "metadata": {
    "execution": {
     "iopub.execute_input": "2021-09-20T12:47:34.427978Z",
     "iopub.status.busy": "2021-09-20T12:47:34.427231Z",
     "iopub.status.idle": "2021-09-20T12:47:34.501929Z",
     "shell.execute_reply": "2021-09-20T12:47:34.500922Z",
     "shell.execute_reply.started": "2021-09-20T12:47:34.427951Z"
    }
   },
   "outputs": [],
   "source": [
    "train_data = pd.read_csv(r'D:\\B. Tech\\6th Semester\\Tools and Techniques Laboratory\\Minor project\\Training.csv')\n",
    "test_data = pd.read_csv(r'D:\\B. Tech\\6th Semester\\Tools and Techniques Laboratory\\Minor project\\Testing.csv')"
   ]
  },
  {
   "cell_type": "code",
   "execution_count": 3,
   "metadata": {
    "execution": {
     "iopub.execute_input": "2021-09-20T12:47:34.504041Z",
     "iopub.status.busy": "2021-09-20T12:47:34.50373Z",
     "iopub.status.idle": "2021-09-20T12:47:34.524213Z",
     "shell.execute_reply": "2021-09-20T12:47:34.523515Z",
     "shell.execute_reply.started": "2021-09-20T12:47:34.504001Z"
    }
   },
   "outputs": [
    {
     "data": {
      "text/html": [
       "<div>\n",
       "<style scoped>\n",
       "    .dataframe tbody tr th:only-of-type {\n",
       "        vertical-align: middle;\n",
       "    }\n",
       "\n",
       "    .dataframe tbody tr th {\n",
       "        vertical-align: top;\n",
       "    }\n",
       "\n",
       "    .dataframe thead th {\n",
       "        text-align: right;\n",
       "    }\n",
       "</style>\n",
       "<table border=\"1\" class=\"dataframe\">\n",
       "  <thead>\n",
       "    <tr style=\"text-align: right;\">\n",
       "      <th></th>\n",
       "      <th>itching</th>\n",
       "      <th>skin_rash</th>\n",
       "      <th>nodal_skin_eruptions</th>\n",
       "      <th>continuous_sneezing</th>\n",
       "      <th>shivering</th>\n",
       "      <th>chills</th>\n",
       "      <th>joint_pain</th>\n",
       "      <th>stomach_pain</th>\n",
       "      <th>acidity</th>\n",
       "      <th>ulcers_on_tongue</th>\n",
       "      <th>...</th>\n",
       "      <th>scurring</th>\n",
       "      <th>skin_peeling</th>\n",
       "      <th>silver_like_dusting</th>\n",
       "      <th>small_dents_in_nails</th>\n",
       "      <th>inflammatory_nails</th>\n",
       "      <th>blister</th>\n",
       "      <th>red_sore_around_nose</th>\n",
       "      <th>yellow_crust_ooze</th>\n",
       "      <th>prognosis</th>\n",
       "      <th>Unnamed: 133</th>\n",
       "    </tr>\n",
       "  </thead>\n",
       "  <tbody>\n",
       "    <tr>\n",
       "      <th>0</th>\n",
       "      <td>1</td>\n",
       "      <td>1</td>\n",
       "      <td>1</td>\n",
       "      <td>0</td>\n",
       "      <td>0</td>\n",
       "      <td>0</td>\n",
       "      <td>0</td>\n",
       "      <td>0</td>\n",
       "      <td>0</td>\n",
       "      <td>0</td>\n",
       "      <td>...</td>\n",
       "      <td>0</td>\n",
       "      <td>0</td>\n",
       "      <td>0</td>\n",
       "      <td>0</td>\n",
       "      <td>0</td>\n",
       "      <td>0</td>\n",
       "      <td>0</td>\n",
       "      <td>0</td>\n",
       "      <td>Fungal infection</td>\n",
       "      <td>NaN</td>\n",
       "    </tr>\n",
       "    <tr>\n",
       "      <th>1</th>\n",
       "      <td>0</td>\n",
       "      <td>1</td>\n",
       "      <td>1</td>\n",
       "      <td>0</td>\n",
       "      <td>0</td>\n",
       "      <td>0</td>\n",
       "      <td>0</td>\n",
       "      <td>0</td>\n",
       "      <td>0</td>\n",
       "      <td>0</td>\n",
       "      <td>...</td>\n",
       "      <td>0</td>\n",
       "      <td>0</td>\n",
       "      <td>0</td>\n",
       "      <td>0</td>\n",
       "      <td>0</td>\n",
       "      <td>0</td>\n",
       "      <td>0</td>\n",
       "      <td>0</td>\n",
       "      <td>Fungal infection</td>\n",
       "      <td>NaN</td>\n",
       "    </tr>\n",
       "    <tr>\n",
       "      <th>2</th>\n",
       "      <td>1</td>\n",
       "      <td>0</td>\n",
       "      <td>1</td>\n",
       "      <td>0</td>\n",
       "      <td>0</td>\n",
       "      <td>0</td>\n",
       "      <td>0</td>\n",
       "      <td>0</td>\n",
       "      <td>0</td>\n",
       "      <td>0</td>\n",
       "      <td>...</td>\n",
       "      <td>0</td>\n",
       "      <td>0</td>\n",
       "      <td>0</td>\n",
       "      <td>0</td>\n",
       "      <td>0</td>\n",
       "      <td>0</td>\n",
       "      <td>0</td>\n",
       "      <td>0</td>\n",
       "      <td>Fungal infection</td>\n",
       "      <td>NaN</td>\n",
       "    </tr>\n",
       "    <tr>\n",
       "      <th>3</th>\n",
       "      <td>1</td>\n",
       "      <td>1</td>\n",
       "      <td>0</td>\n",
       "      <td>0</td>\n",
       "      <td>0</td>\n",
       "      <td>0</td>\n",
       "      <td>0</td>\n",
       "      <td>0</td>\n",
       "      <td>0</td>\n",
       "      <td>0</td>\n",
       "      <td>...</td>\n",
       "      <td>0</td>\n",
       "      <td>0</td>\n",
       "      <td>0</td>\n",
       "      <td>0</td>\n",
       "      <td>0</td>\n",
       "      <td>0</td>\n",
       "      <td>0</td>\n",
       "      <td>0</td>\n",
       "      <td>Fungal infection</td>\n",
       "      <td>NaN</td>\n",
       "    </tr>\n",
       "    <tr>\n",
       "      <th>4</th>\n",
       "      <td>1</td>\n",
       "      <td>1</td>\n",
       "      <td>1</td>\n",
       "      <td>0</td>\n",
       "      <td>0</td>\n",
       "      <td>0</td>\n",
       "      <td>0</td>\n",
       "      <td>0</td>\n",
       "      <td>0</td>\n",
       "      <td>0</td>\n",
       "      <td>...</td>\n",
       "      <td>0</td>\n",
       "      <td>0</td>\n",
       "      <td>0</td>\n",
       "      <td>0</td>\n",
       "      <td>0</td>\n",
       "      <td>0</td>\n",
       "      <td>0</td>\n",
       "      <td>0</td>\n",
       "      <td>Fungal infection</td>\n",
       "      <td>NaN</td>\n",
       "    </tr>\n",
       "  </tbody>\n",
       "</table>\n",
       "<p>5 rows × 134 columns</p>\n",
       "</div>"
      ],
      "text/plain": [
       "   itching  skin_rash  nodal_skin_eruptions  continuous_sneezing  shivering  \\\n",
       "0        1          1                     1                    0          0   \n",
       "1        0          1                     1                    0          0   \n",
       "2        1          0                     1                    0          0   \n",
       "3        1          1                     0                    0          0   \n",
       "4        1          1                     1                    0          0   \n",
       "\n",
       "   chills  joint_pain  stomach_pain  acidity  ulcers_on_tongue  ...  scurring  \\\n",
       "0       0           0             0        0                 0  ...         0   \n",
       "1       0           0             0        0                 0  ...         0   \n",
       "2       0           0             0        0                 0  ...         0   \n",
       "3       0           0             0        0                 0  ...         0   \n",
       "4       0           0             0        0                 0  ...         0   \n",
       "\n",
       "   skin_peeling  silver_like_dusting  small_dents_in_nails  \\\n",
       "0             0                    0                     0   \n",
       "1             0                    0                     0   \n",
       "2             0                    0                     0   \n",
       "3             0                    0                     0   \n",
       "4             0                    0                     0   \n",
       "\n",
       "   inflammatory_nails  blister  red_sore_around_nose  yellow_crust_ooze  \\\n",
       "0                   0        0                     0                  0   \n",
       "1                   0        0                     0                  0   \n",
       "2                   0        0                     0                  0   \n",
       "3                   0        0                     0                  0   \n",
       "4                   0        0                     0                  0   \n",
       "\n",
       "          prognosis  Unnamed: 133  \n",
       "0  Fungal infection           NaN  \n",
       "1  Fungal infection           NaN  \n",
       "2  Fungal infection           NaN  \n",
       "3  Fungal infection           NaN  \n",
       "4  Fungal infection           NaN  \n",
       "\n",
       "[5 rows x 134 columns]"
      ]
     },
     "execution_count": 3,
     "metadata": {},
     "output_type": "execute_result"
    }
   ],
   "source": [
    "train_data.head()"
   ]
  },
  {
   "cell_type": "code",
   "execution_count": 4,
   "metadata": {
    "execution": {
     "iopub.execute_input": "2021-09-20T12:47:34.52557Z",
     "iopub.status.busy": "2021-09-20T12:47:34.525145Z",
     "iopub.status.idle": "2021-09-20T12:47:34.543149Z",
     "shell.execute_reply": "2021-09-20T12:47:34.542186Z",
     "shell.execute_reply.started": "2021-09-20T12:47:34.52554Z"
    }
   },
   "outputs": [
    {
     "name": "stdout",
     "output_type": "stream",
     "text": [
      "<class 'pandas.core.frame.DataFrame'>\n",
      "RangeIndex: 4920 entries, 0 to 4919\n",
      "Columns: 134 entries, itching to Unnamed: 133\n",
      "dtypes: float64(1), int64(132), object(1)\n",
      "memory usage: 5.0+ MB\n"
     ]
    }
   ],
   "source": [
    "train_data.info() "
   ]
  },
  {
   "cell_type": "markdown",
   "metadata": {},
   "source": [
    "Data has 134 columns. The 132 of the columns are symptoms, encoded integer data, and the \"prognosis\" column is categorical data for disease labels."
   ]
  },
  {
   "cell_type": "code",
   "execution_count": 5,
   "metadata": {
    "execution": {
     "iopub.execute_input": "2021-09-20T12:47:34.545651Z",
     "iopub.status.busy": "2021-09-20T12:47:34.545302Z",
     "iopub.status.idle": "2021-09-20T12:47:34.556299Z",
     "shell.execute_reply": "2021-09-20T12:47:34.555418Z",
     "shell.execute_reply.started": "2021-09-20T12:47:34.545614Z"
    }
   },
   "outputs": [
    {
     "data": {
      "text/plain": [
       "itching                 False\n",
       "skin_rash               False\n",
       "nodal_skin_eruptions    False\n",
       "continuous_sneezing     False\n",
       "shivering               False\n",
       "                        ...  \n",
       "blister                 False\n",
       "red_sore_around_nose    False\n",
       "yellow_crust_ooze       False\n",
       "prognosis               False\n",
       "Unnamed: 133             True\n",
       "Length: 134, dtype: bool"
      ]
     },
     "execution_count": 5,
     "metadata": {},
     "output_type": "execute_result"
    }
   ],
   "source": [
    "train_data.isnull().any()"
   ]
  },
  {
   "cell_type": "code",
   "execution_count": 6,
   "metadata": {
    "execution": {
     "iopub.execute_input": "2021-09-20T12:47:34.557904Z",
     "iopub.status.busy": "2021-09-20T12:47:34.557678Z",
     "iopub.status.idle": "2021-09-20T12:47:34.566753Z",
     "shell.execute_reply": "2021-09-20T12:47:34.56615Z",
     "shell.execute_reply.started": "2021-09-20T12:47:34.55788Z"
    }
   },
   "outputs": [],
   "source": [
    "train_data.drop([\"Unnamed: 133\"], axis = 1, inplace = True)"
   ]
  },
  {
   "cell_type": "code",
   "execution_count": 7,
   "metadata": {
    "execution": {
     "iopub.execute_input": "2021-09-20T12:47:34.568613Z",
     "iopub.status.busy": "2021-09-20T12:47:34.567941Z",
     "iopub.status.idle": "2021-09-20T12:47:34.595756Z",
     "shell.execute_reply": "2021-09-20T12:47:34.594848Z",
     "shell.execute_reply.started": "2021-09-20T12:47:34.568582Z"
    }
   },
   "outputs": [
    {
     "data": {
      "text/html": [
       "<div>\n",
       "<style scoped>\n",
       "    .dataframe tbody tr th:only-of-type {\n",
       "        vertical-align: middle;\n",
       "    }\n",
       "\n",
       "    .dataframe tbody tr th {\n",
       "        vertical-align: top;\n",
       "    }\n",
       "\n",
       "    .dataframe thead th {\n",
       "        text-align: right;\n",
       "    }\n",
       "</style>\n",
       "<table border=\"1\" class=\"dataframe\">\n",
       "  <thead>\n",
       "    <tr style=\"text-align: right;\">\n",
       "      <th></th>\n",
       "      <th>itching</th>\n",
       "      <th>skin_rash</th>\n",
       "      <th>nodal_skin_eruptions</th>\n",
       "      <th>continuous_sneezing</th>\n",
       "      <th>shivering</th>\n",
       "      <th>chills</th>\n",
       "      <th>joint_pain</th>\n",
       "      <th>stomach_pain</th>\n",
       "      <th>acidity</th>\n",
       "      <th>ulcers_on_tongue</th>\n",
       "      <th>...</th>\n",
       "      <th>blackheads</th>\n",
       "      <th>scurring</th>\n",
       "      <th>skin_peeling</th>\n",
       "      <th>silver_like_dusting</th>\n",
       "      <th>small_dents_in_nails</th>\n",
       "      <th>inflammatory_nails</th>\n",
       "      <th>blister</th>\n",
       "      <th>red_sore_around_nose</th>\n",
       "      <th>yellow_crust_ooze</th>\n",
       "      <th>prognosis</th>\n",
       "    </tr>\n",
       "  </thead>\n",
       "  <tbody>\n",
       "    <tr>\n",
       "      <th>0</th>\n",
       "      <td>1</td>\n",
       "      <td>1</td>\n",
       "      <td>1</td>\n",
       "      <td>0</td>\n",
       "      <td>0</td>\n",
       "      <td>0</td>\n",
       "      <td>0</td>\n",
       "      <td>0</td>\n",
       "      <td>0</td>\n",
       "      <td>0</td>\n",
       "      <td>...</td>\n",
       "      <td>0</td>\n",
       "      <td>0</td>\n",
       "      <td>0</td>\n",
       "      <td>0</td>\n",
       "      <td>0</td>\n",
       "      <td>0</td>\n",
       "      <td>0</td>\n",
       "      <td>0</td>\n",
       "      <td>0</td>\n",
       "      <td>Fungal infection</td>\n",
       "    </tr>\n",
       "    <tr>\n",
       "      <th>1</th>\n",
       "      <td>0</td>\n",
       "      <td>1</td>\n",
       "      <td>1</td>\n",
       "      <td>0</td>\n",
       "      <td>0</td>\n",
       "      <td>0</td>\n",
       "      <td>0</td>\n",
       "      <td>0</td>\n",
       "      <td>0</td>\n",
       "      <td>0</td>\n",
       "      <td>...</td>\n",
       "      <td>0</td>\n",
       "      <td>0</td>\n",
       "      <td>0</td>\n",
       "      <td>0</td>\n",
       "      <td>0</td>\n",
       "      <td>0</td>\n",
       "      <td>0</td>\n",
       "      <td>0</td>\n",
       "      <td>0</td>\n",
       "      <td>Fungal infection</td>\n",
       "    </tr>\n",
       "    <tr>\n",
       "      <th>2</th>\n",
       "      <td>1</td>\n",
       "      <td>0</td>\n",
       "      <td>1</td>\n",
       "      <td>0</td>\n",
       "      <td>0</td>\n",
       "      <td>0</td>\n",
       "      <td>0</td>\n",
       "      <td>0</td>\n",
       "      <td>0</td>\n",
       "      <td>0</td>\n",
       "      <td>...</td>\n",
       "      <td>0</td>\n",
       "      <td>0</td>\n",
       "      <td>0</td>\n",
       "      <td>0</td>\n",
       "      <td>0</td>\n",
       "      <td>0</td>\n",
       "      <td>0</td>\n",
       "      <td>0</td>\n",
       "      <td>0</td>\n",
       "      <td>Fungal infection</td>\n",
       "    </tr>\n",
       "    <tr>\n",
       "      <th>3</th>\n",
       "      <td>1</td>\n",
       "      <td>1</td>\n",
       "      <td>0</td>\n",
       "      <td>0</td>\n",
       "      <td>0</td>\n",
       "      <td>0</td>\n",
       "      <td>0</td>\n",
       "      <td>0</td>\n",
       "      <td>0</td>\n",
       "      <td>0</td>\n",
       "      <td>...</td>\n",
       "      <td>0</td>\n",
       "      <td>0</td>\n",
       "      <td>0</td>\n",
       "      <td>0</td>\n",
       "      <td>0</td>\n",
       "      <td>0</td>\n",
       "      <td>0</td>\n",
       "      <td>0</td>\n",
       "      <td>0</td>\n",
       "      <td>Fungal infection</td>\n",
       "    </tr>\n",
       "    <tr>\n",
       "      <th>4</th>\n",
       "      <td>1</td>\n",
       "      <td>1</td>\n",
       "      <td>1</td>\n",
       "      <td>0</td>\n",
       "      <td>0</td>\n",
       "      <td>0</td>\n",
       "      <td>0</td>\n",
       "      <td>0</td>\n",
       "      <td>0</td>\n",
       "      <td>0</td>\n",
       "      <td>...</td>\n",
       "      <td>0</td>\n",
       "      <td>0</td>\n",
       "      <td>0</td>\n",
       "      <td>0</td>\n",
       "      <td>0</td>\n",
       "      <td>0</td>\n",
       "      <td>0</td>\n",
       "      <td>0</td>\n",
       "      <td>0</td>\n",
       "      <td>Fungal infection</td>\n",
       "    </tr>\n",
       "    <tr>\n",
       "      <th>...</th>\n",
       "      <td>...</td>\n",
       "      <td>...</td>\n",
       "      <td>...</td>\n",
       "      <td>...</td>\n",
       "      <td>...</td>\n",
       "      <td>...</td>\n",
       "      <td>...</td>\n",
       "      <td>...</td>\n",
       "      <td>...</td>\n",
       "      <td>...</td>\n",
       "      <td>...</td>\n",
       "      <td>...</td>\n",
       "      <td>...</td>\n",
       "      <td>...</td>\n",
       "      <td>...</td>\n",
       "      <td>...</td>\n",
       "      <td>...</td>\n",
       "      <td>...</td>\n",
       "      <td>...</td>\n",
       "      <td>...</td>\n",
       "      <td>...</td>\n",
       "    </tr>\n",
       "    <tr>\n",
       "      <th>4915</th>\n",
       "      <td>0</td>\n",
       "      <td>0</td>\n",
       "      <td>0</td>\n",
       "      <td>0</td>\n",
       "      <td>0</td>\n",
       "      <td>0</td>\n",
       "      <td>0</td>\n",
       "      <td>0</td>\n",
       "      <td>0</td>\n",
       "      <td>0</td>\n",
       "      <td>...</td>\n",
       "      <td>0</td>\n",
       "      <td>0</td>\n",
       "      <td>0</td>\n",
       "      <td>0</td>\n",
       "      <td>0</td>\n",
       "      <td>0</td>\n",
       "      <td>0</td>\n",
       "      <td>0</td>\n",
       "      <td>0</td>\n",
       "      <td>(vertigo) Paroymsal  Positional Vertigo</td>\n",
       "    </tr>\n",
       "    <tr>\n",
       "      <th>4916</th>\n",
       "      <td>0</td>\n",
       "      <td>1</td>\n",
       "      <td>0</td>\n",
       "      <td>0</td>\n",
       "      <td>0</td>\n",
       "      <td>0</td>\n",
       "      <td>0</td>\n",
       "      <td>0</td>\n",
       "      <td>0</td>\n",
       "      <td>0</td>\n",
       "      <td>...</td>\n",
       "      <td>1</td>\n",
       "      <td>1</td>\n",
       "      <td>0</td>\n",
       "      <td>0</td>\n",
       "      <td>0</td>\n",
       "      <td>0</td>\n",
       "      <td>0</td>\n",
       "      <td>0</td>\n",
       "      <td>0</td>\n",
       "      <td>Acne</td>\n",
       "    </tr>\n",
       "    <tr>\n",
       "      <th>4917</th>\n",
       "      <td>0</td>\n",
       "      <td>0</td>\n",
       "      <td>0</td>\n",
       "      <td>0</td>\n",
       "      <td>0</td>\n",
       "      <td>0</td>\n",
       "      <td>0</td>\n",
       "      <td>0</td>\n",
       "      <td>0</td>\n",
       "      <td>0</td>\n",
       "      <td>...</td>\n",
       "      <td>0</td>\n",
       "      <td>0</td>\n",
       "      <td>0</td>\n",
       "      <td>0</td>\n",
       "      <td>0</td>\n",
       "      <td>0</td>\n",
       "      <td>0</td>\n",
       "      <td>0</td>\n",
       "      <td>0</td>\n",
       "      <td>Urinary tract infection</td>\n",
       "    </tr>\n",
       "    <tr>\n",
       "      <th>4918</th>\n",
       "      <td>0</td>\n",
       "      <td>1</td>\n",
       "      <td>0</td>\n",
       "      <td>0</td>\n",
       "      <td>0</td>\n",
       "      <td>0</td>\n",
       "      <td>1</td>\n",
       "      <td>0</td>\n",
       "      <td>0</td>\n",
       "      <td>0</td>\n",
       "      <td>...</td>\n",
       "      <td>0</td>\n",
       "      <td>0</td>\n",
       "      <td>1</td>\n",
       "      <td>1</td>\n",
       "      <td>1</td>\n",
       "      <td>1</td>\n",
       "      <td>0</td>\n",
       "      <td>0</td>\n",
       "      <td>0</td>\n",
       "      <td>Psoriasis</td>\n",
       "    </tr>\n",
       "    <tr>\n",
       "      <th>4919</th>\n",
       "      <td>0</td>\n",
       "      <td>1</td>\n",
       "      <td>0</td>\n",
       "      <td>0</td>\n",
       "      <td>0</td>\n",
       "      <td>0</td>\n",
       "      <td>0</td>\n",
       "      <td>0</td>\n",
       "      <td>0</td>\n",
       "      <td>0</td>\n",
       "      <td>...</td>\n",
       "      <td>0</td>\n",
       "      <td>0</td>\n",
       "      <td>0</td>\n",
       "      <td>0</td>\n",
       "      <td>0</td>\n",
       "      <td>0</td>\n",
       "      <td>1</td>\n",
       "      <td>1</td>\n",
       "      <td>1</td>\n",
       "      <td>Impetigo</td>\n",
       "    </tr>\n",
       "  </tbody>\n",
       "</table>\n",
       "<p>4920 rows × 133 columns</p>\n",
       "</div>"
      ],
      "text/plain": [
       "      itching  skin_rash  nodal_skin_eruptions  continuous_sneezing  \\\n",
       "0           1          1                     1                    0   \n",
       "1           0          1                     1                    0   \n",
       "2           1          0                     1                    0   \n",
       "3           1          1                     0                    0   \n",
       "4           1          1                     1                    0   \n",
       "...       ...        ...                   ...                  ...   \n",
       "4915        0          0                     0                    0   \n",
       "4916        0          1                     0                    0   \n",
       "4917        0          0                     0                    0   \n",
       "4918        0          1                     0                    0   \n",
       "4919        0          1                     0                    0   \n",
       "\n",
       "      shivering  chills  joint_pain  stomach_pain  acidity  ulcers_on_tongue  \\\n",
       "0             0       0           0             0        0                 0   \n",
       "1             0       0           0             0        0                 0   \n",
       "2             0       0           0             0        0                 0   \n",
       "3             0       0           0             0        0                 0   \n",
       "4             0       0           0             0        0                 0   \n",
       "...         ...     ...         ...           ...      ...               ...   \n",
       "4915          0       0           0             0        0                 0   \n",
       "4916          0       0           0             0        0                 0   \n",
       "4917          0       0           0             0        0                 0   \n",
       "4918          0       0           1             0        0                 0   \n",
       "4919          0       0           0             0        0                 0   \n",
       "\n",
       "      ...  blackheads  scurring  skin_peeling  silver_like_dusting  \\\n",
       "0     ...           0         0             0                    0   \n",
       "1     ...           0         0             0                    0   \n",
       "2     ...           0         0             0                    0   \n",
       "3     ...           0         0             0                    0   \n",
       "4     ...           0         0             0                    0   \n",
       "...   ...         ...       ...           ...                  ...   \n",
       "4915  ...           0         0             0                    0   \n",
       "4916  ...           1         1             0                    0   \n",
       "4917  ...           0         0             0                    0   \n",
       "4918  ...           0         0             1                    1   \n",
       "4919  ...           0         0             0                    0   \n",
       "\n",
       "      small_dents_in_nails  inflammatory_nails  blister  red_sore_around_nose  \\\n",
       "0                        0                   0        0                     0   \n",
       "1                        0                   0        0                     0   \n",
       "2                        0                   0        0                     0   \n",
       "3                        0                   0        0                     0   \n",
       "4                        0                   0        0                     0   \n",
       "...                    ...                 ...      ...                   ...   \n",
       "4915                     0                   0        0                     0   \n",
       "4916                     0                   0        0                     0   \n",
       "4917                     0                   0        0                     0   \n",
       "4918                     1                   1        0                     0   \n",
       "4919                     0                   0        1                     1   \n",
       "\n",
       "      yellow_crust_ooze                                prognosis  \n",
       "0                     0                         Fungal infection  \n",
       "1                     0                         Fungal infection  \n",
       "2                     0                         Fungal infection  \n",
       "3                     0                         Fungal infection  \n",
       "4                     0                         Fungal infection  \n",
       "...                 ...                                      ...  \n",
       "4915                  0  (vertigo) Paroymsal  Positional Vertigo  \n",
       "4916                  0                                     Acne  \n",
       "4917                  0                  Urinary tract infection  \n",
       "4918                  0                                Psoriasis  \n",
       "4919                  1                                 Impetigo  \n",
       "\n",
       "[4920 rows x 133 columns]"
      ]
     },
     "execution_count": 7,
     "metadata": {},
     "output_type": "execute_result"
    }
   ],
   "source": [
    "train_data"
   ]
  },
  {
   "cell_type": "markdown",
   "metadata": {},
   "source": [
    "<a id = \"4\"></a>\n",
    "#### Encoding Categorical Data"
   ]
  },
  {
   "cell_type": "markdown",
   "metadata": {},
   "source": [
    "The data is already encoded."
   ]
  },
  {
   "cell_type": "markdown",
   "metadata": {},
   "source": [
    "<a id = \"5\"></a>\n",
    "#### Create Test and Train Data"
   ]
  },
  {
   "cell_type": "code",
   "execution_count": 8,
   "metadata": {
    "execution": {
     "iopub.execute_input": "2021-09-20T12:47:34.615013Z",
     "iopub.status.busy": "2021-09-20T12:47:34.614269Z",
     "iopub.status.idle": "2021-09-20T12:47:34.634617Z",
     "shell.execute_reply": "2021-09-20T12:47:34.633667Z",
     "shell.execute_reply.started": "2021-09-20T12:47:34.614969Z"
    }
   },
   "outputs": [],
   "source": [
    "X_train = train_data.iloc[:, :-1]\n",
    "X_test = test_data.iloc[:, :-1]\n",
    "y_train = train_data.iloc[:, -1:]\n",
    "y_test = test_data.iloc[:, -1:]"
   ]
  },
  {
   "cell_type": "code",
   "execution_count": 9,
   "metadata": {
    "execution": {
     "iopub.execute_input": "2021-09-20T12:47:34.637302Z",
     "iopub.status.busy": "2021-09-20T12:47:34.636952Z",
     "iopub.status.idle": "2021-09-20T12:47:34.643692Z",
     "shell.execute_reply": "2021-09-20T12:47:34.642413Z",
     "shell.execute_reply.started": "2021-09-20T12:47:34.637268Z"
    }
   },
   "outputs": [
    {
     "name": "stdout",
     "output_type": "stream",
     "text": [
      "X train shape:  (4920, 132)\n",
      "y train shape:  (4920, 1)\n"
     ]
    }
   ],
   "source": [
    "print(\"X train shape: \",X_train.shape)\n",
    "print(\"y train shape: \",y_train.shape)"
   ]
  },
  {
   "cell_type": "markdown",
   "metadata": {},
   "source": [
    "* Our x train data has 132 features and 4920 observation unit that means our input matrix has 4920 rows and 132 columns for training\n",
    "* Our y train data has one feature (itself) and 4920 observation unit that means our output matrix has 4920 rows and 1 column for training"
   ]
  },
  {
   "cell_type": "code",
   "execution_count": 10,
   "metadata": {
    "execution": {
     "iopub.execute_input": "2021-09-20T12:47:34.645791Z",
     "iopub.status.busy": "2021-09-20T12:47:34.644762Z",
     "iopub.status.idle": "2021-09-20T12:47:34.654239Z",
     "shell.execute_reply": "2021-09-20T12:47:34.653553Z",
     "shell.execute_reply.started": "2021-09-20T12:47:34.645751Z"
    }
   },
   "outputs": [
    {
     "name": "stdout",
     "output_type": "stream",
     "text": [
      "X test shape:  (42, 132)\n",
      "y test shape:  (42, 1)\n"
     ]
    }
   ],
   "source": [
    "print(\"X test shape: \",X_test.shape)\n",
    "print(\"y test shape: \",y_test.shape)"
   ]
  },
  {
   "cell_type": "markdown",
   "metadata": {},
   "source": [
    "* Our x test data has 132 features and 42 observation unit that means our input matrix has 42 rows and 132 columns for prediction\n",
    "* Our y test data has one feature (itself) and 42 observation unit that means our output matrix has 42 rows and 1 column for prediction"
   ]
  },
  {
   "cell_type": "markdown",
   "metadata": {},
   "source": [
    "<a id = \"6\"></a>\n",
    "#### Feature Scaling for Numerical Data"
   ]
  },
  {
   "cell_type": "code",
   "execution_count": 11,
   "metadata": {
    "execution": {
     "iopub.execute_input": "2021-09-20T12:47:34.655436Z",
     "iopub.status.busy": "2021-09-20T12:47:34.655061Z",
     "iopub.status.idle": "2021-09-20T12:47:34.667948Z",
     "shell.execute_reply": "2021-09-20T12:47:34.667142Z",
     "shell.execute_reply.started": "2021-09-20T12:47:34.655405Z"
    }
   },
   "outputs": [
    {
     "name": "stdout",
     "output_type": "stream",
     "text": [
      "Standardized array:  [-0.53531619 -0.46806733 -0.52308913  1.18564322 -0.36719405  2.13935429\n",
      " -0.5169756  -0.91435521]\n",
      "Normalized array:  [1.24140411e+02 1.46140411e+02 1.28140411e+02 6.87140411e+02\n",
      " 1.79140411e+02 9.99140411e+02 1.30140411e+02 1.40410959e-01]\n"
     ]
    }
   ],
   "source": [
    "# Example of standardization and normalization\n",
    "\n",
    "x = np.array([1,23,5,564,56,876,7,-123])\n",
    "\n",
    "standardized_X = (x - np.mean(x)) / np.std(x)\n",
    "normalized_X = (x-np.min(x) / np.max(x) - np.min(x))\n",
    "print(\"Standardized array: \",standardized_X)\n",
    "print(\"Normalized array: \",normalized_X )"
   ]
  },
  {
   "cell_type": "code",
   "execution_count": 12,
   "metadata": {
    "execution": {
     "iopub.execute_input": "2021-09-20T12:47:34.669606Z",
     "iopub.status.busy": "2021-09-20T12:47:34.668969Z",
     "iopub.status.idle": "2021-09-20T12:47:34.677144Z",
     "shell.execute_reply": "2021-09-20T12:47:34.67652Z",
     "shell.execute_reply.started": "2021-09-20T12:47:34.669573Z"
    }
   },
   "outputs": [],
   "source": [
    "# With sklearn scalers\n",
    "from sklearn.preprocessing import StandardScaler\n",
    "stds = StandardScaler()\n",
    "x = x.reshape(-1,1)  # for sklearn methods. they use two dimensional vectors\n",
    "x = stds.fit_transform(x)"
   ]
  },
  {
   "cell_type": "markdown",
   "metadata": {},
   "source": [
    "What if we apply standard scaling to our train symptoms data (X_train)?\n",
    "* This is a nonsensical situation because our symptoms are not numerical. They are categorical. So do not these bullshit =)"
   ]
  },
  {
   "cell_type": "markdown",
   "metadata": {},
   "source": [
    "<a id = \"7\"></a>\n",
    "### Model Building\n",
    "<a id = \"8\"></a>\n",
    "#### Implementing Basic Example ANN Structure with OOP"
   ]
  },
  {
   "cell_type": "markdown",
   "metadata": {},
   "source": [
    "Reference: https://www.geeksforgeeks.org/implementing-ann-training-process-in-python/"
   ]
  },
  {
   "cell_type": "code",
   "execution_count": 13,
   "metadata": {
    "execution": {
     "iopub.execute_input": "2021-09-20T12:47:34.678685Z",
     "iopub.status.busy": "2021-09-20T12:47:34.678084Z",
     "iopub.status.idle": "2021-09-20T12:47:34.688524Z",
     "shell.execute_reply": "2021-09-20T12:47:34.687875Z",
     "shell.execute_reply.started": "2021-09-20T12:47:34.678646Z"
    }
   },
   "outputs": [],
   "source": [
    "class NeuralNet(object):\n",
    "    def __init__(self):\n",
    "        # Generate random numbers\n",
    "        np.random.seed(1)\n",
    "        \n",
    "        # Assign random weights to a 3 * 1 matrix\n",
    "        self.synaptic_weights = 2 * np.random.random((3, 1)) - 1\n",
    "        \n",
    "    # The sigmoid function method\n",
    "    def _sigmoid(self,x):\n",
    "        return 1 / (1 + np.exp(-x))\n",
    "    \n",
    "    # Derivative sigmoid\n",
    "    def derivative_sigmoid(self, x):\n",
    "        return x * (1 - x)\n",
    "    \n",
    "    # Train the neural network and adjust the weights each time\n",
    "    def train(self, inputs, outputs, iteration_number):\n",
    "        for iteration in range(iteration_number):     \n",
    "        \n",
    "            # Pass the training set through network\n",
    "            output = self.learn(inputs)\n",
    "        \n",
    "            # Calculate the error\n",
    "            error = outputs - output\n",
    "        \n",
    "            # Adjust the weights by a factor\n",
    "            factor = np.dot(inputs.T, error * self.derivative_sigmoid(output))\n",
    "            self.synaptic_weights += factor\n",
    "        \n",
    "    # calculate z    \n",
    "    def learn(self, test_inputs):\n",
    "        return self._sigmoid(np.dot(test_inputs, self.synaptic_weights))"
   ]
  },
  {
   "cell_type": "markdown",
   "metadata": {},
   "source": [
    "<a id = \"9\"></a>\n",
    "#### Fitting Model and Prediction"
   ]
  },
  {
   "cell_type": "code",
   "execution_count": 14,
   "metadata": {
    "execution": {
     "iopub.execute_input": "2021-09-20T12:47:34.690016Z",
     "iopub.status.busy": "2021-09-20T12:47:34.689618Z",
     "iopub.status.idle": "2021-09-20T12:47:34.706098Z",
     "shell.execute_reply": "2021-09-20T12:47:34.704873Z",
     "shell.execute_reply.started": "2021-09-20T12:47:34.689931Z"
    }
   },
   "outputs": [
    {
     "name": "stdout",
     "output_type": "stream",
     "text": [
      "Our test example output is: 1\n"
     ]
    }
   ],
   "source": [
    "# Initialize\n",
    "neural_net = NeuralNet()\n",
    "\n",
    "# The training set\n",
    "inputs = np.array([[0, 1, 1], [1, 0, 0], [1, 0, 1]])\n",
    "outputs = np.array([[1, 0, 1]]).T\n",
    "\n",
    "# train the neural network\n",
    "neural_net.train(inputs, outputs, 50)\n",
    "\n",
    "test_inputs = np.array([1, 0, 1])\n",
    "threshold = 0.5\n",
    "if neural_net.learn(test_inputs) >= threshold:\n",
    "    print(\"Our test example output is: 1\")\n",
    "else:\n",
    "    print(\"Our test example output is: 0\")"
   ]
  },
  {
   "cell_type": "code",
   "execution_count": 15,
   "metadata": {
    "execution": {
     "iopub.execute_input": "2021-09-20T12:47:34.707669Z",
     "iopub.status.busy": "2021-09-20T12:47:34.707331Z",
     "iopub.status.idle": "2021-09-20T12:47:34.7335Z",
     "shell.execute_reply": "2021-09-20T12:47:34.732539Z",
     "shell.execute_reply.started": "2021-09-20T12:47:34.707642Z"
    }
   },
   "outputs": [
    {
     "data": {
      "text/html": [
       "<div>\n",
       "<style scoped>\n",
       "    .dataframe tbody tr th:only-of-type {\n",
       "        vertical-align: middle;\n",
       "    }\n",
       "\n",
       "    .dataframe tbody tr th {\n",
       "        vertical-align: top;\n",
       "    }\n",
       "\n",
       "    .dataframe thead th {\n",
       "        text-align: right;\n",
       "    }\n",
       "</style>\n",
       "<table border=\"1\" class=\"dataframe\">\n",
       "  <thead>\n",
       "    <tr style=\"text-align: right;\">\n",
       "      <th></th>\n",
       "      <th>prognosis_(vertigo) Paroymsal  Positional Vertigo</th>\n",
       "      <th>prognosis_AIDS</th>\n",
       "      <th>prognosis_Acne</th>\n",
       "      <th>prognosis_Alcoholic hepatitis</th>\n",
       "      <th>prognosis_Allergy</th>\n",
       "      <th>prognosis_Arthritis</th>\n",
       "      <th>prognosis_Bronchial Asthma</th>\n",
       "      <th>prognosis_Cervical spondylosis</th>\n",
       "      <th>prognosis_Chicken pox</th>\n",
       "      <th>prognosis_Chronic cholestasis</th>\n",
       "      <th>...</th>\n",
       "      <th>prognosis_Osteoarthristis</th>\n",
       "      <th>prognosis_Paralysis (brain hemorrhage)</th>\n",
       "      <th>prognosis_Peptic ulcer diseae</th>\n",
       "      <th>prognosis_Pneumonia</th>\n",
       "      <th>prognosis_Psoriasis</th>\n",
       "      <th>prognosis_Tuberculosis</th>\n",
       "      <th>prognosis_Typhoid</th>\n",
       "      <th>prognosis_Urinary tract infection</th>\n",
       "      <th>prognosis_Varicose veins</th>\n",
       "      <th>prognosis_hepatitis A</th>\n",
       "    </tr>\n",
       "  </thead>\n",
       "  <tbody>\n",
       "    <tr>\n",
       "      <th>0</th>\n",
       "      <td>0</td>\n",
       "      <td>0</td>\n",
       "      <td>0</td>\n",
       "      <td>0</td>\n",
       "      <td>0</td>\n",
       "      <td>0</td>\n",
       "      <td>0</td>\n",
       "      <td>0</td>\n",
       "      <td>0</td>\n",
       "      <td>0</td>\n",
       "      <td>...</td>\n",
       "      <td>0</td>\n",
       "      <td>0</td>\n",
       "      <td>0</td>\n",
       "      <td>0</td>\n",
       "      <td>0</td>\n",
       "      <td>0</td>\n",
       "      <td>0</td>\n",
       "      <td>0</td>\n",
       "      <td>0</td>\n",
       "      <td>0</td>\n",
       "    </tr>\n",
       "    <tr>\n",
       "      <th>1</th>\n",
       "      <td>0</td>\n",
       "      <td>0</td>\n",
       "      <td>0</td>\n",
       "      <td>0</td>\n",
       "      <td>0</td>\n",
       "      <td>0</td>\n",
       "      <td>0</td>\n",
       "      <td>0</td>\n",
       "      <td>0</td>\n",
       "      <td>0</td>\n",
       "      <td>...</td>\n",
       "      <td>0</td>\n",
       "      <td>0</td>\n",
       "      <td>0</td>\n",
       "      <td>0</td>\n",
       "      <td>0</td>\n",
       "      <td>0</td>\n",
       "      <td>0</td>\n",
       "      <td>0</td>\n",
       "      <td>0</td>\n",
       "      <td>0</td>\n",
       "    </tr>\n",
       "    <tr>\n",
       "      <th>2</th>\n",
       "      <td>0</td>\n",
       "      <td>0</td>\n",
       "      <td>0</td>\n",
       "      <td>0</td>\n",
       "      <td>0</td>\n",
       "      <td>0</td>\n",
       "      <td>0</td>\n",
       "      <td>0</td>\n",
       "      <td>0</td>\n",
       "      <td>0</td>\n",
       "      <td>...</td>\n",
       "      <td>0</td>\n",
       "      <td>0</td>\n",
       "      <td>0</td>\n",
       "      <td>0</td>\n",
       "      <td>0</td>\n",
       "      <td>0</td>\n",
       "      <td>0</td>\n",
       "      <td>0</td>\n",
       "      <td>0</td>\n",
       "      <td>0</td>\n",
       "    </tr>\n",
       "    <tr>\n",
       "      <th>3</th>\n",
       "      <td>0</td>\n",
       "      <td>0</td>\n",
       "      <td>0</td>\n",
       "      <td>0</td>\n",
       "      <td>0</td>\n",
       "      <td>0</td>\n",
       "      <td>0</td>\n",
       "      <td>0</td>\n",
       "      <td>0</td>\n",
       "      <td>0</td>\n",
       "      <td>...</td>\n",
       "      <td>0</td>\n",
       "      <td>0</td>\n",
       "      <td>0</td>\n",
       "      <td>0</td>\n",
       "      <td>0</td>\n",
       "      <td>0</td>\n",
       "      <td>0</td>\n",
       "      <td>0</td>\n",
       "      <td>0</td>\n",
       "      <td>0</td>\n",
       "    </tr>\n",
       "    <tr>\n",
       "      <th>4</th>\n",
       "      <td>0</td>\n",
       "      <td>0</td>\n",
       "      <td>0</td>\n",
       "      <td>0</td>\n",
       "      <td>0</td>\n",
       "      <td>0</td>\n",
       "      <td>0</td>\n",
       "      <td>0</td>\n",
       "      <td>0</td>\n",
       "      <td>0</td>\n",
       "      <td>...</td>\n",
       "      <td>0</td>\n",
       "      <td>0</td>\n",
       "      <td>0</td>\n",
       "      <td>0</td>\n",
       "      <td>0</td>\n",
       "      <td>0</td>\n",
       "      <td>0</td>\n",
       "      <td>0</td>\n",
       "      <td>0</td>\n",
       "      <td>0</td>\n",
       "    </tr>\n",
       "    <tr>\n",
       "      <th>...</th>\n",
       "      <td>...</td>\n",
       "      <td>...</td>\n",
       "      <td>...</td>\n",
       "      <td>...</td>\n",
       "      <td>...</td>\n",
       "      <td>...</td>\n",
       "      <td>...</td>\n",
       "      <td>...</td>\n",
       "      <td>...</td>\n",
       "      <td>...</td>\n",
       "      <td>...</td>\n",
       "      <td>...</td>\n",
       "      <td>...</td>\n",
       "      <td>...</td>\n",
       "      <td>...</td>\n",
       "      <td>...</td>\n",
       "      <td>...</td>\n",
       "      <td>...</td>\n",
       "      <td>...</td>\n",
       "      <td>...</td>\n",
       "      <td>...</td>\n",
       "    </tr>\n",
       "    <tr>\n",
       "      <th>4915</th>\n",
       "      <td>1</td>\n",
       "      <td>0</td>\n",
       "      <td>0</td>\n",
       "      <td>0</td>\n",
       "      <td>0</td>\n",
       "      <td>0</td>\n",
       "      <td>0</td>\n",
       "      <td>0</td>\n",
       "      <td>0</td>\n",
       "      <td>0</td>\n",
       "      <td>...</td>\n",
       "      <td>0</td>\n",
       "      <td>0</td>\n",
       "      <td>0</td>\n",
       "      <td>0</td>\n",
       "      <td>0</td>\n",
       "      <td>0</td>\n",
       "      <td>0</td>\n",
       "      <td>0</td>\n",
       "      <td>0</td>\n",
       "      <td>0</td>\n",
       "    </tr>\n",
       "    <tr>\n",
       "      <th>4916</th>\n",
       "      <td>0</td>\n",
       "      <td>0</td>\n",
       "      <td>1</td>\n",
       "      <td>0</td>\n",
       "      <td>0</td>\n",
       "      <td>0</td>\n",
       "      <td>0</td>\n",
       "      <td>0</td>\n",
       "      <td>0</td>\n",
       "      <td>0</td>\n",
       "      <td>...</td>\n",
       "      <td>0</td>\n",
       "      <td>0</td>\n",
       "      <td>0</td>\n",
       "      <td>0</td>\n",
       "      <td>0</td>\n",
       "      <td>0</td>\n",
       "      <td>0</td>\n",
       "      <td>0</td>\n",
       "      <td>0</td>\n",
       "      <td>0</td>\n",
       "    </tr>\n",
       "    <tr>\n",
       "      <th>4917</th>\n",
       "      <td>0</td>\n",
       "      <td>0</td>\n",
       "      <td>0</td>\n",
       "      <td>0</td>\n",
       "      <td>0</td>\n",
       "      <td>0</td>\n",
       "      <td>0</td>\n",
       "      <td>0</td>\n",
       "      <td>0</td>\n",
       "      <td>0</td>\n",
       "      <td>...</td>\n",
       "      <td>0</td>\n",
       "      <td>0</td>\n",
       "      <td>0</td>\n",
       "      <td>0</td>\n",
       "      <td>0</td>\n",
       "      <td>0</td>\n",
       "      <td>0</td>\n",
       "      <td>1</td>\n",
       "      <td>0</td>\n",
       "      <td>0</td>\n",
       "    </tr>\n",
       "    <tr>\n",
       "      <th>4918</th>\n",
       "      <td>0</td>\n",
       "      <td>0</td>\n",
       "      <td>0</td>\n",
       "      <td>0</td>\n",
       "      <td>0</td>\n",
       "      <td>0</td>\n",
       "      <td>0</td>\n",
       "      <td>0</td>\n",
       "      <td>0</td>\n",
       "      <td>0</td>\n",
       "      <td>...</td>\n",
       "      <td>0</td>\n",
       "      <td>0</td>\n",
       "      <td>0</td>\n",
       "      <td>0</td>\n",
       "      <td>1</td>\n",
       "      <td>0</td>\n",
       "      <td>0</td>\n",
       "      <td>0</td>\n",
       "      <td>0</td>\n",
       "      <td>0</td>\n",
       "    </tr>\n",
       "    <tr>\n",
       "      <th>4919</th>\n",
       "      <td>0</td>\n",
       "      <td>0</td>\n",
       "      <td>0</td>\n",
       "      <td>0</td>\n",
       "      <td>0</td>\n",
       "      <td>0</td>\n",
       "      <td>0</td>\n",
       "      <td>0</td>\n",
       "      <td>0</td>\n",
       "      <td>0</td>\n",
       "      <td>...</td>\n",
       "      <td>0</td>\n",
       "      <td>0</td>\n",
       "      <td>0</td>\n",
       "      <td>0</td>\n",
       "      <td>0</td>\n",
       "      <td>0</td>\n",
       "      <td>0</td>\n",
       "      <td>0</td>\n",
       "      <td>0</td>\n",
       "      <td>0</td>\n",
       "    </tr>\n",
       "  </tbody>\n",
       "</table>\n",
       "<p>4920 rows × 41 columns</p>\n",
       "</div>"
      ],
      "text/plain": [
       "      prognosis_(vertigo) Paroymsal  Positional Vertigo  prognosis_AIDS  \\\n",
       "0                                                     0               0   \n",
       "1                                                     0               0   \n",
       "2                                                     0               0   \n",
       "3                                                     0               0   \n",
       "4                                                     0               0   \n",
       "...                                                 ...             ...   \n",
       "4915                                                  1               0   \n",
       "4916                                                  0               0   \n",
       "4917                                                  0               0   \n",
       "4918                                                  0               0   \n",
       "4919                                                  0               0   \n",
       "\n",
       "      prognosis_Acne  prognosis_Alcoholic hepatitis  prognosis_Allergy  \\\n",
       "0                  0                              0                  0   \n",
       "1                  0                              0                  0   \n",
       "2                  0                              0                  0   \n",
       "3                  0                              0                  0   \n",
       "4                  0                              0                  0   \n",
       "...              ...                            ...                ...   \n",
       "4915               0                              0                  0   \n",
       "4916               1                              0                  0   \n",
       "4917               0                              0                  0   \n",
       "4918               0                              0                  0   \n",
       "4919               0                              0                  0   \n",
       "\n",
       "      prognosis_Arthritis  prognosis_Bronchial Asthma  \\\n",
       "0                       0                           0   \n",
       "1                       0                           0   \n",
       "2                       0                           0   \n",
       "3                       0                           0   \n",
       "4                       0                           0   \n",
       "...                   ...                         ...   \n",
       "4915                    0                           0   \n",
       "4916                    0                           0   \n",
       "4917                    0                           0   \n",
       "4918                    0                           0   \n",
       "4919                    0                           0   \n",
       "\n",
       "      prognosis_Cervical spondylosis  prognosis_Chicken pox  \\\n",
       "0                                  0                      0   \n",
       "1                                  0                      0   \n",
       "2                                  0                      0   \n",
       "3                                  0                      0   \n",
       "4                                  0                      0   \n",
       "...                              ...                    ...   \n",
       "4915                               0                      0   \n",
       "4916                               0                      0   \n",
       "4917                               0                      0   \n",
       "4918                               0                      0   \n",
       "4919                               0                      0   \n",
       "\n",
       "      prognosis_Chronic cholestasis  ...  prognosis_Osteoarthristis  \\\n",
       "0                                 0  ...                          0   \n",
       "1                                 0  ...                          0   \n",
       "2                                 0  ...                          0   \n",
       "3                                 0  ...                          0   \n",
       "4                                 0  ...                          0   \n",
       "...                             ...  ...                        ...   \n",
       "4915                              0  ...                          0   \n",
       "4916                              0  ...                          0   \n",
       "4917                              0  ...                          0   \n",
       "4918                              0  ...                          0   \n",
       "4919                              0  ...                          0   \n",
       "\n",
       "      prognosis_Paralysis (brain hemorrhage)  prognosis_Peptic ulcer diseae  \\\n",
       "0                                          0                              0   \n",
       "1                                          0                              0   \n",
       "2                                          0                              0   \n",
       "3                                          0                              0   \n",
       "4                                          0                              0   \n",
       "...                                      ...                            ...   \n",
       "4915                                       0                              0   \n",
       "4916                                       0                              0   \n",
       "4917                                       0                              0   \n",
       "4918                                       0                              0   \n",
       "4919                                       0                              0   \n",
       "\n",
       "      prognosis_Pneumonia  prognosis_Psoriasis  prognosis_Tuberculosis  \\\n",
       "0                       0                    0                       0   \n",
       "1                       0                    0                       0   \n",
       "2                       0                    0                       0   \n",
       "3                       0                    0                       0   \n",
       "4                       0                    0                       0   \n",
       "...                   ...                  ...                     ...   \n",
       "4915                    0                    0                       0   \n",
       "4916                    0                    0                       0   \n",
       "4917                    0                    0                       0   \n",
       "4918                    0                    1                       0   \n",
       "4919                    0                    0                       0   \n",
       "\n",
       "      prognosis_Typhoid  prognosis_Urinary tract infection  \\\n",
       "0                     0                                  0   \n",
       "1                     0                                  0   \n",
       "2                     0                                  0   \n",
       "3                     0                                  0   \n",
       "4                     0                                  0   \n",
       "...                 ...                                ...   \n",
       "4915                  0                                  0   \n",
       "4916                  0                                  0   \n",
       "4917                  0                                  1   \n",
       "4918                  0                                  0   \n",
       "4919                  0                                  0   \n",
       "\n",
       "      prognosis_Varicose veins  prognosis_hepatitis A  \n",
       "0                            0                      0  \n",
       "1                            0                      0  \n",
       "2                            0                      0  \n",
       "3                            0                      0  \n",
       "4                            0                      0  \n",
       "...                        ...                    ...  \n",
       "4915                         0                      0  \n",
       "4916                         0                      0  \n",
       "4917                         0                      0  \n",
       "4918                         0                      0  \n",
       "4919                         0                      0  \n",
       "\n",
       "[4920 rows x 41 columns]"
      ]
     },
     "execution_count": 15,
     "metadata": {},
     "output_type": "execute_result"
    }
   ],
   "source": [
    "# transform into dummies for y_train (prognosis variable)\n",
    "y_train_dum = pd.get_dummies(y_train)\n",
    "y_train_dum"
   ]
  },
  {
   "cell_type": "markdown",
   "metadata": {},
   "source": [
    "<a id = \"10\"></a>\n",
    "### Building ANN Structure with Keras Library\n",
    "<a id = \"11\"></a>\n",
    "#### Import Libraries"
   ]
  },
  {
   "cell_type": "code",
   "execution_count": 16,
   "metadata": {
    "execution": {
     "iopub.execute_input": "2021-09-20T12:47:34.734839Z",
     "iopub.status.busy": "2021-09-20T12:47:34.734628Z",
     "iopub.status.idle": "2021-09-20T12:47:34.739889Z",
     "shell.execute_reply": "2021-09-20T12:47:34.739133Z",
     "shell.execute_reply.started": "2021-09-20T12:47:34.734815Z"
    }
   },
   "outputs": [],
   "source": [
    "# import tensorflow and keras\n",
    "import tensorflow as tf\n",
    "from tensorflow.keras.models import Sequential   # used for initialize ANN model\n",
    "from tensorflow.keras import layers   # used for different layer structure\n",
    "from tensorflow.keras.layers import Dense"
   ]
  },
  {
   "cell_type": "markdown",
   "metadata": {},
   "source": [
    "<a id = \"12\"></a>\n",
    "#### Initialize the ANN Model"
   ]
  },
  {
   "cell_type": "code",
   "execution_count": 17,
   "metadata": {
    "execution": {
     "iopub.execute_input": "2021-09-20T12:47:34.741086Z",
     "iopub.status.busy": "2021-09-20T12:47:34.740858Z",
     "iopub.status.idle": "2021-09-20T12:47:34.753819Z",
     "shell.execute_reply": "2021-09-20T12:47:34.752688Z",
     "shell.execute_reply.started": "2021-09-20T12:47:34.74105Z"
    }
   },
   "outputs": [],
   "source": [
    "classifier = Sequential()"
   ]
  },
  {
   "cell_type": "markdown",
   "metadata": {},
   "source": [
    "<a id = \"13\"></a>\n",
    "#### Adding the Layers"
   ]
  },
  {
   "cell_type": "code",
   "execution_count": 18,
   "metadata": {
    "execution": {
     "iopub.execute_input": "2021-09-20T12:47:34.755971Z",
     "iopub.status.busy": "2021-09-20T12:47:34.75556Z",
     "iopub.status.idle": "2021-09-20T12:47:34.787159Z",
     "shell.execute_reply": "2021-09-20T12:47:34.786267Z",
     "shell.execute_reply.started": "2021-09-20T12:47:34.755927Z"
    }
   },
   "outputs": [],
   "source": [
    "# adding first hidden layer with input layer. there is init parameter that represents how to initialize weights\n",
    "classifier.add(Dense(64, activation = \"relu\", input_dim = X_train.shape[1]))\n",
    "# adding second hidden layer\n",
    "classifier.add(Dense(32, activation = \"relu\"))\n",
    "# adding last layer\n",
    "classifier.add(Dense(y_train_dum.shape[1], activation = \"softmax\"))"
   ]
  },
  {
   "cell_type": "markdown",
   "metadata": {},
   "source": [
    "<a id = \"14\"></a>\n",
    "#### Compiling the ANN Model"
   ]
  },
  {
   "cell_type": "code",
   "execution_count": 19,
   "metadata": {
    "execution": {
     "iopub.execute_input": "2021-09-20T12:47:34.788672Z",
     "iopub.status.busy": "2021-09-20T12:47:34.788471Z",
     "iopub.status.idle": "2021-09-20T12:47:34.802694Z",
     "shell.execute_reply": "2021-09-20T12:47:34.801815Z",
     "shell.execute_reply.started": "2021-09-20T12:47:34.788649Z"
    }
   },
   "outputs": [
    {
     "name": "stdout",
     "output_type": "stream",
     "text": [
      "Model: \"sequential\"\n",
      "_________________________________________________________________\n",
      " Layer (type)                Output Shape              Param #   \n",
      "=================================================================\n",
      " dense (Dense)               (None, 64)                8512      \n",
      "                                                                 \n",
      " dense_1 (Dense)             (None, 32)                2080      \n",
      "                                                                 \n",
      " dense_2 (Dense)             (None, 41)                1353      \n",
      "                                                                 \n",
      "=================================================================\n",
      "Total params: 11,945\n",
      "Trainable params: 11,945\n",
      "Non-trainable params: 0\n",
      "_________________________________________________________________\n"
     ]
    }
   ],
   "source": [
    "classifier.compile(optimizer = \"adam\", loss = \"categorical_crossentropy\", metrics = [\"accuracy\"])\n",
    "classifier.summary()"
   ]
  },
  {
   "cell_type": "markdown",
   "metadata": {},
   "source": [
    "<a id = \"15\"></a>\n",
    "#### Fitting the ANN"
   ]
  },
  {
   "cell_type": "code",
   "execution_count": 20,
   "metadata": {
    "execution": {
     "iopub.execute_input": "2021-09-20T12:47:34.804771Z",
     "iopub.status.busy": "2021-09-20T12:47:34.804147Z",
     "iopub.status.idle": "2021-09-20T12:47:36.079982Z",
     "shell.execute_reply": "2021-09-20T12:47:36.07898Z",
     "shell.execute_reply.started": "2021-09-20T12:47:34.804729Z"
    }
   },
   "outputs": [
    {
     "name": "stdout",
     "output_type": "stream",
     "text": [
      "Epoch 1/5\n",
      "164/164 [==============================] - 2s 3ms/step - loss: 2.2772 - accuracy: 0.6642\n",
      "Epoch 2/5\n",
      "164/164 [==============================] - 1s 3ms/step - loss: 0.1532 - accuracy: 0.9998\n",
      "Epoch 3/5\n",
      "164/164 [==============================] - 1s 3ms/step - loss: 0.0241 - accuracy: 1.0000\n",
      "Epoch 4/5\n",
      "164/164 [==============================] - 1s 3ms/step - loss: 0.0105 - accuracy: 1.0000\n",
      "Epoch 5/5\n",
      "164/164 [==============================] - 1s 3ms/step - loss: 0.0060 - accuracy: 1.0000\n"
     ]
    }
   ],
   "source": [
    "history = classifier.fit(X_train, y_train_dum, epochs = 5, batch_size = 30)"
   ]
  },
  {
   "cell_type": "markdown",
   "metadata": {},
   "source": [
    "<a id = \"16\"></a>\n",
    "#### Making Prediction"
   ]
  },
  {
   "cell_type": "code",
   "execution_count": 21,
   "metadata": {
    "execution": {
     "iopub.execute_input": "2021-09-20T12:47:36.082208Z",
     "iopub.status.busy": "2021-09-20T12:47:36.081875Z",
     "iopub.status.idle": "2021-09-20T12:47:36.168389Z",
     "shell.execute_reply": "2021-09-20T12:47:36.167485Z",
     "shell.execute_reply.started": "2021-09-20T12:47:36.082169Z"
    }
   },
   "outputs": [
    {
     "name": "stdout",
     "output_type": "stream",
     "text": [
      "2/2 [==============================] - 0s 0s/step\n"
     ]
    },
    {
     "data": {
      "text/plain": [
       "array([[8.9385016e-05, 2.8338879e-06, 1.9294847e-04, ..., 1.2613091e-07,\n",
       "        1.5484959e-08, 5.7957312e-08],\n",
       "       [1.1233162e-06, 2.4943677e-07, 6.8215479e-05, ..., 1.5949510e-05,\n",
       "        2.5018592e-06, 1.8429466e-07],\n",
       "       [1.9909254e-07, 8.3021832e-06, 7.4270616e-08, ..., 5.1075517e-07,\n",
       "        5.7156009e-05, 8.5134225e-06],\n",
       "       ...,\n",
       "       [4.0074356e-06, 1.6048818e-05, 2.1959388e-05, ..., 1.0959538e-07,\n",
       "        1.0436369e-06, 5.4690569e-05],\n",
       "       [1.0398187e-07, 3.1388190e-05, 1.5587311e-06, ..., 1.5888900e-05,\n",
       "        7.5858115e-05, 1.1237473e-05],\n",
       "       [6.1834236e-03, 1.8855247e-03, 1.0966868e-03, ..., 3.2633690e-03,\n",
       "        3.1428575e-04, 7.1838708e-04]], dtype=float32)"
      ]
     },
     "execution_count": 21,
     "metadata": {},
     "output_type": "execute_result"
    }
   ],
   "source": [
    "prediction = classifier.predict(X_test)\n",
    "prediction"
   ]
  },
  {
   "cell_type": "markdown",
   "metadata": {},
   "source": [
    "<a id = \"17\"></a>\n",
    "#### Accuracy and Loss Visualization"
   ]
  },
  {
   "cell_type": "code",
   "execution_count": 22,
   "metadata": {
    "execution": {
     "iopub.execute_input": "2021-09-20T12:47:36.170458Z",
     "iopub.status.busy": "2021-09-20T12:47:36.169811Z",
     "iopub.status.idle": "2021-09-20T12:47:36.175705Z",
     "shell.execute_reply": "2021-09-20T12:47:36.174851Z",
     "shell.execute_reply.started": "2021-09-20T12:47:36.170427Z"
    }
   },
   "outputs": [
    {
     "data": {
      "text/plain": [
       "[0.6642276644706726, 0.9997967481613159, 1.0, 1.0, 1.0]"
      ]
     },
     "execution_count": 22,
     "metadata": {},
     "output_type": "execute_result"
    }
   ],
   "source": [
    "history.history[\"accuracy\"]"
   ]
  },
  {
   "cell_type": "code",
   "execution_count": 23,
   "metadata": {
    "execution": {
     "iopub.execute_input": "2021-09-20T12:47:36.177284Z",
     "iopub.status.busy": "2021-09-20T12:47:36.176935Z",
     "iopub.status.idle": "2021-09-20T12:47:36.383788Z",
     "shell.execute_reply": "2021-09-20T12:47:36.382917Z",
     "shell.execute_reply.started": "2021-09-20T12:47:36.177249Z"
    }
   },
   "outputs": [
    {
     "data": {
      "image/png": "[encoded data removed]",
      "text/plain": [
       "<Figure size 640x480 with 1 Axes>"
      ]
     },
     "metadata": {},
     "output_type": "display_data"
    }
   ],
   "source": [
    "import matplotlib.pyplot as plt\n",
    "plt.plot(history.history[\"accuracy\"])\n",
    "plt.title(\"Model accuracy\")\n",
    "plt.xlabel(\"Epoch\")\n",
    "plt.ylabel(\"Accuracy score\")\n",
    "plt.show()"
   ]
  },
  {
   "cell_type": "code",
   "execution_count": 24,
   "metadata": {
    "execution": {
     "iopub.execute_input": "2021-09-20T12:48:09.480805Z",
     "iopub.status.busy": "2021-09-20T12:48:09.480493Z",
     "iopub.status.idle": "2021-09-20T12:48:09.665148Z",
     "shell.execute_reply": "2021-09-20T12:48:09.664372Z",
     "shell.execute_reply.started": "2021-09-20T12:48:09.480764Z"
    }
   },
   "outputs": [
    {
     "data": {
      "image/png": "[encoded data removed]",
      "text/plain": [
       "<Figure size 640x480 with 1 Axes>"
      ]
     },
     "metadata": {},
     "output_type": "display_data"
    }
   ],
   "source": [
    "plt.plot(history.history[\"loss\"])\n",
    "plt.title(\"Model loss\")\n",
    "plt.xlabel(\"Epoch\")\n",
    "plt.ylabel(\"Loss\")\n",
    "plt.show()"
   ]
  },
  {
   "cell_type": "code",
   "execution_count": null,
   "metadata": {},
   "outputs": [],
   "source": []
  }
 ],
 "metadata": {
  "kernelspec": {
   "display_name": "Python 3 (ipykernel)",
   "language": "python",
   "name": "python3"
  },
  "language_info": {
   "codemirror_mode": {
    "name": "ipython",
    "version": 3
   },
   "file_extension": ".py",
   "mimetype": "text/x-python",
   "name": "python",
   "nbconvert_exporter": "python",
   "pygments_lexer": "ipython3",
   "version": "3.9.13"
  }
 },
 "nbformat": 4,
 "nbformat_minor": 4
}
